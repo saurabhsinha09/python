{
 "cells": [
  {
   "cell_type": "code",
   "execution_count": 1,
   "id": "88db9cee",
   "metadata": {},
   "outputs": [],
   "source": [
    "#pandas library for data analysis\n",
    "import pandas"
   ]
  },
  {
   "cell_type": "code",
   "execution_count": 2,
   "id": "cf6cc79d",
   "metadata": {},
   "outputs": [
    {
     "name": "stdout",
     "output_type": "stream",
     "text": [
      "        Qt  Price  Available\n",
      "First   10     20         30\n",
      "Second  20     30         40\n"
     ]
    }
   ],
   "source": [
    "df=pandas.DataFrame([[10,20,30],[20,30,40]], columns=[\"Qt\",\"Price\",\"Available\"], index=[\"First\", \"Second\"])\n",
    "print(df)"
   ]
  },
  {
   "cell_type": "code",
   "execution_count": 3,
   "id": "1e4bb1b3",
   "metadata": {},
   "outputs": [
    {
     "name": "stdout",
     "output_type": "stream",
     "text": [
      "     Name    Surname\n",
      "0  Sachin  Tendulkar\n",
      "1  Sourav    Ganguly\n",
      "2   Rahul     Dravid\n"
     ]
    }
   ],
   "source": [
    "df1=pandas.DataFrame([{\"Name\":\"Sachin\", \"Surname\":\"Tendulkar\"}, {\"Name\":\"Sourav\", \"Surname\":\"Ganguly\"}, {\"Name\":\"Rahul\", \"Surname\":\"Dravid\"}])\n",
    "print(df1)"
   ]
  },
  {
   "cell_type": "code",
   "execution_count": 4,
   "id": "359a11b2",
   "metadata": {},
   "outputs": [
    {
     "data": {
      "text/plain": [
       "pandas.core.frame.DataFrame"
      ]
     },
     "execution_count": 4,
     "metadata": {},
     "output_type": "execute_result"
    }
   ],
   "source": [
    "type(df)"
   ]
  },
  {
   "cell_type": "code",
   "execution_count": 5,
   "id": "481a015e",
   "metadata": {},
   "outputs": [
    {
     "data": {
      "text/plain": [
       "Qt           15.0\n",
       "Price        25.0\n",
       "Available    35.0\n",
       "dtype: float64"
      ]
     },
     "execution_count": 5,
     "metadata": {},
     "output_type": "execute_result"
    }
   ],
   "source": [
    "df.mean()"
   ]
  },
  {
   "cell_type": "code",
   "execution_count": 6,
   "id": "d72603e9",
   "metadata": {},
   "outputs": [
    {
     "data": {
      "text/plain": [
       "25.0"
      ]
     },
     "execution_count": 6,
     "metadata": {},
     "output_type": "execute_result"
    }
   ],
   "source": [
    "df.mean().mean()"
   ]
  },
  {
   "cell_type": "code",
   "execution_count": 7,
   "id": "da97ffc0",
   "metadata": {},
   "outputs": [
    {
     "data": {
      "text/plain": [
       "25.0"
      ]
     },
     "execution_count": 7,
     "metadata": {},
     "output_type": "execute_result"
    }
   ],
   "source": [
    "df.Price.mean()"
   ]
  },
  {
   "cell_type": "code",
   "execution_count": 8,
   "id": "387eb3a9",
   "metadata": {},
   "outputs": [
    {
     "data": {
      "text/plain": [
       "pandas.core.series.Series"
      ]
     },
     "execution_count": 8,
     "metadata": {},
     "output_type": "execute_result"
    }
   ],
   "source": [
    "type(df.Price)"
   ]
  },
  {
   "cell_type": "code",
   "execution_count": 9,
   "id": "75fb6b93",
   "metadata": {},
   "outputs": [
    {
     "data": {
      "text/plain": [
       "float"
      ]
     },
     "execution_count": 9,
     "metadata": {},
     "output_type": "execute_result"
    }
   ],
   "source": [
    "type(df.mean().mean())"
   ]
  },
  {
   "cell_type": "code",
   "execution_count": 10,
   "id": "e1f575e9",
   "metadata": {},
   "outputs": [
    {
     "data": {
      "text/plain": [
       "25.0"
      ]
     },
     "execution_count": 10,
     "metadata": {},
     "output_type": "execute_result"
    }
   ],
   "source": [
    "df[\"Price\"].mean()"
   ]
  },
  {
   "cell_type": "code",
   "execution_count": null,
   "id": "9cf1fec2",
   "metadata": {},
   "outputs": [],
   "source": []
  }
 ],
 "metadata": {
  "kernelspec": {
   "display_name": "Python 3",
   "language": "python",
   "name": "python3"
  },
  "language_info": {
   "codemirror_mode": {
    "name": "ipython",
    "version": 3
   },
   "file_extension": ".py",
   "mimetype": "text/x-python",
   "name": "python",
   "nbconvert_exporter": "python",
   "pygments_lexer": "ipython3",
   "version": "3.8.8"
  }
 },
 "nbformat": 4,
 "nbformat_minor": 5
}
