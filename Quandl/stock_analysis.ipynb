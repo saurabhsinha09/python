{
 "cells": [
  {
   "cell_type": "code",
   "execution_count": null,
   "id": "cb3a11c9",
   "metadata": {},
   "outputs": [],
   "source": [
    "#pip install quandl"
   ]
  },
  {
   "cell_type": "code",
   "execution_count": null,
   "id": "6cfa8425",
   "metadata": {},
   "outputs": [],
   "source": [
    "import quandl\n",
    "\n",
    "#create file with name \".quandl_apikey\" in your home dirctory \n",
    "#store quandl api key in file\n",
    "#quandl.ApiConfig.api_key = 'secret key'\n",
    "quandl.read_key()\n",
    "#print(quandl.ApiConfig.api_key)\n",
    "\n",
    "#quandl.get?"
   ]
  },
  {
   "cell_type": "code",
   "execution_count": null,
   "id": "31306dca",
   "metadata": {},
   "outputs": [],
   "source": [
    "dfs = quandl.get('BSE/BOM500209', start_date='2021-11-09', end_date='2021-11-09')\n",
    "dfs"
   ]
  },
  {
   "cell_type": "code",
   "execution_count": null,
   "id": "278ab6e2",
   "metadata": {},
   "outputs": [],
   "source": [
    "from pandas_datareader import data\n",
    "import datetime\n",
    "import dateutil.relativedelta\n",
    "from bokeh.plotting import figure, show, output_file\n",
    "from bokeh.embed import components\n",
    "from bokeh.resources import CDN"
   ]
  },
  {
   "cell_type": "code",
   "execution_count": null,
   "id": "3aae7944",
   "metadata": {},
   "outputs": [],
   "source": [
    "start = datetime.datetime.now() - dateutil.relativedelta.relativedelta(days=30)\n",
    "end   = datetime.datetime.now()\n",
    "quandl.read_key()\n",
    "infy_stock =data.DataReader('BSE/BOM500209', 'quandl',api_key=quandl.ApiConfig.api_key, start = start, end = end)\n",
    "#infy_stock"
   ]
  },
  {
   "cell_type": "code",
   "execution_count": null,
   "id": "b63a91a6",
   "metadata": {},
   "outputs": [],
   "source": [
    "#infy_stock.index\n",
    "#infy_stock.columns\n",
    "infy_pos = infy_stock.Close > infy_stock.Open\n",
    "infy_neg = infy_stock.Close < infy_stock.Open\n",
    "infy_eql = infy_stock.Close == infy_stock.Open"
   ]
  },
  {
   "cell_type": "code",
   "execution_count": null,
   "id": "b9f3f0d8",
   "metadata": {},
   "outputs": [],
   "source": [
    "plot_i = figure(x_axis_type = 'datetime', width = 800, height = 500)\n",
    "plot_i.title.text = \"Candlestick Chart of Infosys\"\n",
    "\n",
    "hours_12 = 12*60*60*1000\n",
    "\n",
    "plot_i.rect(infy_stock.index[infy_pos], (infy_stock.Open[infy_pos] + infy_stock.Close[infy_pos])/2, hours_12, \n",
    "            abs(infy_stock.Open[infy_pos] - infy_stock.Close[infy_pos]), fill_color=\"green\", line_color=\"black\")\n",
    "\n",
    "plot_i.rect(infy_stock.index[infy_neg], (infy_stock.Open[infy_neg] + infy_stock.Close[infy_neg])/2, hours_12, \n",
    "            abs(infy_stock.Open[infy_neg] - infy_stock.Close[infy_neg]), fill_color=\"red\", line_color=\"black\")\n",
    "\n",
    "plot_i.rect(infy_stock.index[infy_eql], (infy_stock.Open[infy_eql] + infy_stock.Close[infy_eql])/2, hours_12, \n",
    "            abs(infy_stock.Open[infy_eql] - infy_stock.Close[infy_eql]), fill_color=\"blue\", line_color=\"black\")\n",
    "\n",
    "output_file(\"Infy.html\")\n",
    "show(plot_i)"
   ]
  },
  {
   "cell_type": "code",
   "execution_count": null,
   "id": "035e41be",
   "metadata": {},
   "outputs": [],
   "source": [
    "infy_stock[\"Status\"] = [\"Increase\" if c > o else \"Decrease\" if c < o else \"Equal\" \n",
    "                        for c,o in zip(infy_stock.Close,infy_stock.Open)]\n",
    "infy_stock[\"Midpoint\"] = (infy_stock.Open + infy_stock.Close)/2\n",
    "infy_stock[\"Height\"]     = abs(infy_stock.Open - infy_stock.Close)"
   ]
  },
  {
   "cell_type": "code",
   "execution_count": null,
   "id": "fa692c7f",
   "metadata": {},
   "outputs": [],
   "source": [
    "plot_i = figure(x_axis_type = 'datetime', width = 800, height = 300, sizing_mode = \"scale_width\")\n",
    "plot_i.title.text = \"Candlestick Chart of Infosys\"\n",
    "plot_i.grid.grid_line_alpha = 0.5\n",
    "\n",
    "hours_12 = 12*60*60*1000\n",
    "\n",
    "plot_i.segment(infy_stock.index, infy_stock.High, infy_stock.index, infy_stock.Low, color=\"magenta\")\n",
    "\n",
    "plot_i.rect(infy_stock.index[infy_stock.Status == \"Increase\"], infy_stock.Midpoint[infy_stock.Status == \"Increase\"], hours_12, \n",
    "            infy_stock.Height[infy_stock.Status == \"Increase\"], fill_color=\"green\", line_color=\"black\")\n",
    "\n",
    "plot_i.rect(infy_stock.index[infy_stock.Status == \"Decrease\"], infy_stock.Midpoint[infy_stock.Status == \"Decrease\"], hours_12, \n",
    "            infy_stock.Height[infy_stock.Status == \"Decrease\"], fill_color=\"red\", line_color=\"black\")\n",
    "\n",
    "plot_i.rect(infy_stock.index[infy_stock.Status == \"Equal\"], infy_stock.Midpoint[infy_stock.Status == \"Equal\"], hours_12, \n",
    "            infy_stock.Height[infy_stock.Status == \"Equal\"], fill_color=\"blue\", line_color=\"black\")\n",
    "\n",
    "output_file(\"Infy-Stock.html\")\n",
    "show(plot_i)"
   ]
  },
  {
   "cell_type": "code",
   "execution_count": null,
   "id": "2835aa28",
   "metadata": {},
   "outputs": [],
   "source": [
    "script1, div1 = components(plot_i)\n",
    "cdn_js = CDN.js_files\n",
    "cdn_css = CDN.css_files\n",
    "print(script1, div1, cdn_js, cdn_css)"
   ]
  },
  {
   "cell_type": "code",
   "execution_count": null,
   "id": "d6f59d9c",
   "metadata": {},
   "outputs": [],
   "source": [
    "import dateutil.relativedelta\n",
    "\n",
    "start = datetime.datetime.now() - dateutil.relativedelta.relativedelta(days=30)\n",
    "end   = datetime.datetime.now()\n",
    "quandl.read_key()\n",
    "infy_stock =data.DataReader('BSE/BOM500209', 'quandl',api_key=quandl.ApiConfig.api_key, start = start, end = end)\n",
    "infy_stock"
   ]
  },
  {
   "cell_type": "code",
   "execution_count": null,
   "id": "467fae6e",
   "metadata": {},
   "outputs": [],
   "source": [
    "import datetime\n",
    "import dateutil.relativedelta\n",
    "\n",
    "# current time\n",
    "date_and_time = datetime.datetime.now()\n",
    "date_only = datetime.datetime.now().today()\n",
    "time_only = datetime.datetime.now().time()\n",
    "\n",
    "# calculate date and time\n",
    "result = date_and_time - datetime.timedelta(hours=26, minutes=25, seconds=10)\n",
    "\n",
    "# calculate dates: years (-/+)\n",
    "result = date_only - dateutil.relativedelta.relativedelta(years=10)\n",
    "\n",
    "# months\n",
    "result = date_only - dateutil.relativedelta.relativedelta(months=10)\n",
    "\n",
    "# days\n",
    "result = date_only - dateutil.relativedelta.relativedelta(days=10)\n",
    "\n",
    "# calculate time \n",
    "result = date_and_time - datetime.timedelta(hours=26, minutes=25, seconds=10)\n",
    "result.time()"
   ]
  }
 ],
 "metadata": {
  "kernelspec": {
   "display_name": "Python 3",
   "language": "python",
   "name": "python3"
  },
  "language_info": {
   "codemirror_mode": {
    "name": "ipython",
    "version": 3
   },
   "file_extension": ".py",
   "mimetype": "text/x-python",
   "name": "python",
   "nbconvert_exporter": "python",
   "pygments_lexer": "ipython3",
   "version": "3.8.8"
  }
 },
 "nbformat": 4,
 "nbformat_minor": 5
}
