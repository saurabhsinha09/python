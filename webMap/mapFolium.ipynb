{
 "cells": [
  {
   "cell_type": "code",
   "execution_count": 1,
   "id": "d6020959",
   "metadata": {},
   "outputs": [
    {
     "name": "stdout",
     "output_type": "stream",
     "text": [
      "Collecting folium\n",
      "  Downloading folium-0.12.1-py2.py3-none-any.whl (94 kB)\n",
      "Collecting branca>=0.3.0\n",
      "  Downloading branca-0.4.2-py3-none-any.whl (24 kB)\n",
      "Requirement already satisfied: numpy in c:\\users\\sinha\\anaconda3\\lib\\site-packages (from folium) (1.20.1)\n",
      "Requirement already satisfied: requests in c:\\users\\sinha\\anaconda3\\lib\\site-packages (from folium) (2.25.1)\n",
      "Requirement already satisfied: jinja2>=2.9 in c:\\users\\sinha\\anaconda3\\lib\\site-packages (from folium) (2.11.3)\n",
      "Requirement already satisfied: MarkupSafe>=0.23 in c:\\users\\sinha\\anaconda3\\lib\\site-packages (from jinja2>=2.9->folium) (1.1.1)\n",
      "Requirement already satisfied: chardet<5,>=3.0.2 in c:\\users\\sinha\\anaconda3\\lib\\site-packages (from requests->folium) (4.0.0)\n",
      "Requirement already satisfied: urllib3<1.27,>=1.21.1 in c:\\users\\sinha\\anaconda3\\lib\\site-packages (from requests->folium) (1.26.4)\n",
      "Requirement already satisfied: certifi>=2017.4.17 in c:\\users\\sinha\\anaconda3\\lib\\site-packages (from requests->folium) (2020.12.5)\n",
      "Requirement already satisfied: idna<3,>=2.5 in c:\\users\\sinha\\anaconda3\\lib\\site-packages (from requests->folium) (2.10)\n",
      "Installing collected packages: branca, folium\n",
      "Successfully installed branca-0.4.2 folium-0.12.1\n",
      "Note: you may need to restart the kernel to use updated packages.\n"
     ]
    }
   ],
   "source": [
    "#pip install folium"
   ]
  },
  {
   "cell_type": "code",
   "execution_count": 2,
   "id": "39881094",
   "metadata": {},
   "outputs": [],
   "source": [
    "import folium"
   ]
  },
  {
   "cell_type": "markdown",
   "id": "b623d2a4",
   "metadata": {},
   "source": [
    "## Create map with Folium package and Map class"
   ]
  },
  {
   "cell_type": "code",
   "execution_count": 3,
   "id": "8976b470",
   "metadata": {},
   "outputs": [],
   "source": [
    "map = folium.Map(location = [80,-100], zoom_start = 6)\n",
    "map.save(\"Map1.html\")"
   ]
  },
  {
   "cell_type": "markdown",
   "id": "2156cf27",
   "metadata": {},
   "source": [
    "## Map with Marker, Feature group and Tiles"
   ]
  },
  {
   "cell_type": "code",
   "execution_count": 4,
   "id": "ec9d2b99",
   "metadata": {},
   "outputs": [],
   "source": [
    "map = folium.Map(location = [38.58, -99.09], zoom_start = 6, tiles = \"Stamen Terrain\")\n",
    "\n",
    "fg = folium.FeatureGroup(\"My Map\")\n",
    "fg.add_child(folium.Marker(location = [38.2, -99.1], popup = \"Hi pop\", icon = folium.Icon(color = 'green')))\n",
    "\n",
    "map.add_child(fg)\n",
    "map.save(\"Map2.html\")"
   ]
  },
  {
   "cell_type": "markdown",
   "id": "a01685fc",
   "metadata": {},
   "source": [
    "## Map with circle marker and different color of volcanoes "
   ]
  },
  {
   "cell_type": "code",
   "execution_count": 5,
   "id": "ff6e2d9f",
   "metadata": {},
   "outputs": [],
   "source": [
    "import pandas\n",
    "vol_data = pandas.read_csv(\"Volcanoes.txt\")\n",
    "vol_lat= list(vol_data[\"LAT\"])\n",
    "vol_lon= list(vol_data[\"LON\"])\n",
    "vol_name = list(vol_data[\"NAME\"])\n",
    "vol_elev = list(vol_data[\"ELEV\"])"
   ]
  },
  {
   "cell_type": "code",
   "execution_count": 6,
   "id": "748e4646",
   "metadata": {},
   "outputs": [],
   "source": [
    "def vol_color(elevation):\n",
    "    if elevation < 1000:\n",
    "        color = 'green'\n",
    "    elif 1000 <= elevation < 3000:\n",
    "        color = 'orange'\n",
    "    else:\n",
    "        color = 'red'\n",
    "    return color"
   ]
  },
  {
   "cell_type": "code",
   "execution_count": 7,
   "id": "c3cf3cba",
   "metadata": {},
   "outputs": [],
   "source": [
    "map = folium.Map(location = [38.58, -99.09], zoom_start = 6, tiles = \"Stamen Terrain\")\n",
    "\n",
    "fg = folium.FeatureGroup(\"My Map\")\n",
    "for lt, ln, name, elev in zip(vol_lat, vol_lon, vol_name, vol_elev):\n",
    "    fg.add_child(folium.CircleMarker(location = [lt, ln], radius = 6, popup = name, \n",
    "                                     fill_color = vol_color(elev), color = 'grey', fill_opacity = 0.7))\n",
    "\n",
    "map.add_child(fg)\n",
    "map.save(\"Map3.html\")            "
   ]
  },
  {
   "cell_type": "markdown",
   "id": "cf804231",
   "metadata": {},
   "source": [
    "## Map with three layers and layer control"
   ]
  },
  {
   "cell_type": "code",
   "execution_count": 8,
   "id": "1a1cb700",
   "metadata": {},
   "outputs": [],
   "source": [
    "map = folium.Map(location = [38.58, -99.09], zoom_start = 6, tiles = \"Stamen Terrain\")\n",
    "\n",
    "fgv = folium.FeatureGroup(\"Volcanoes\")\n",
    "for lt, ln, name, elev in zip(vol_lat, vol_lon, vol_name, vol_elev):\n",
    "    fgv.add_child(folium.CircleMarker(location = [lt, ln], radius = 6, popup = name, \n",
    "                                     fill_color = vol_color(elev), color = 'grey', fill_opacity = 0.7))\n",
    "    \n",
    "fgp = folium.FeatureGroup(\"Population\")    \n",
    "\n",
    "fgp.add_child(folium.GeoJson(data=(open('world.json', 'r', encoding = 'utf-8-sig').read()),\n",
    "                           style_function = lambda x: {'fillColor': 'green' if x['properties']['POP2005'] < 10000000\n",
    "                                                      else 'orange' if 10000000 <= x['properties']['POP2005'] < 50000000\n",
    "                                                                    else 'red'}))\n",
    "\n",
    "map.add_child(fgv)\n",
    "map.add_child(fgp)\n",
    "map.add_child(folium.LayerControl())\n",
    "\n",
    "map.save(\"Map4.html\")   "
   ]
  },
  {
   "cell_type": "markdown",
   "id": "4eef85ea",
   "metadata": {},
   "source": [
    "## Popup window with HTML"
   ]
  },
  {
   "cell_type": "code",
   "execution_count": 9,
   "id": "16407601",
   "metadata": {},
   "outputs": [],
   "source": [
    "import folium\n",
    "import pandas\n",
    " \n",
    "data = pandas.read_csv(\"Volcanoes.txt\")\n",
    "lat = list(data[\"LAT\"])\n",
    "lon = list(data[\"LON\"])\n",
    "elev = list(data[\"ELEV\"])\n",
    " \n",
    "html = \"\"\"<h4>Volcano information:</h4>\n",
    "Height: %s m\n",
    "\"\"\"\n",
    " \n",
    "map = folium.Map(location=[38.58, -99.09], zoom_start=5, tiles=\"Stamen Terrain\")\n",
    "fg = folium.FeatureGroup(name = \"My Map\")\n",
    " \n",
    "for lt, ln, el in zip(lat, lon, elev):\n",
    "    iframe = folium.IFrame(html=html % str(el), width=200, height=100)\n",
    "    fg.add_child(folium.Marker(location=[lt, ln], popup=folium.Popup(iframe), icon = folium.Icon(color = \"green\")))\n",
    " \n",
    " \n",
    "map.add_child(fg)\n",
    "map.save(\"Map_html_popup_simple.html\")"
   ]
  },
  {
   "cell_type": "markdown",
   "id": "4dbd0508",
   "metadata": {},
   "source": [
    "## Popup window with google search"
   ]
  },
  {
   "cell_type": "code",
   "execution_count": 10,
   "id": "4919a8e7",
   "metadata": {},
   "outputs": [],
   "source": [
    "import folium\n",
    "import pandas\n",
    " \n",
    "data = pandas.read_csv(\"Volcanoes.txt\")\n",
    "lat = list(data[\"LAT\"])\n",
    "lon = list(data[\"LON\"])\n",
    "elev = list(data[\"ELEV\"])\n",
    "name = list(data[\"NAME\"])\n",
    " \n",
    "html = \"\"\"\n",
    "Volcano name:<br>\n",
    "<a href=\"https://www.google.com/search?q=%%22%s%%22\" target=\"_blank\">%s</a><br>\n",
    "Height: %s m\n",
    "\"\"\"\n",
    " \n",
    "map = folium.Map(location=[38.58, -99.09], zoom_start=5, tiles=\"Stamen Terrain\")\n",
    "fg = folium.FeatureGroup(name = \"My Map\")\n",
    " \n",
    "for lt, ln, el, name in zip(lat, lon, elev, name):\n",
    "    iframe = folium.IFrame(html=html % (name, name, el), width=200, height=100)\n",
    "    fg.add_child(folium.Marker(location=[lt, ln], popup=folium.Popup(iframe), icon = folium.Icon(color = \"green\")))\n",
    " \n",
    "map.add_child(fg)\n",
    "map.save(\"Map_html_popup_advanced.html\")"
   ]
  }
 ],
 "metadata": {
  "kernelspec": {
   "display_name": "Python 3",
   "language": "python",
   "name": "python3"
  },
  "language_info": {
   "codemirror_mode": {
    "name": "ipython",
    "version": 3
   },
   "file_extension": ".py",
   "mimetype": "text/x-python",
   "name": "python",
   "nbconvert_exporter": "python",
   "pygments_lexer": "ipython3",
   "version": "3.8.8"
  }
 },
 "nbformat": 4,
 "nbformat_minor": 5
}
